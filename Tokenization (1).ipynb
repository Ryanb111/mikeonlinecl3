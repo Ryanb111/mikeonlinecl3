{
 "cells": [
  {
   "cell_type": "code",
   "execution_count": 1,
   "id": "fe62ac32",
   "metadata": {},
   "outputs": [],
   "source": [
    "import nltk\n",
    "from nltk.corpus import stopwords\n",
    "from nltk.tokenize import word_tokenize\n",
    "from nltk.stem import PorterStemmer\n",
    "from nltk.stem import WordNetLemmatizer"
   ]
  },
  {
   "cell_type": "code",
   "execution_count": 2,
   "id": "af647d8c",
   "metadata": {},
   "outputs": [
    {
     "name": "stderr",
     "output_type": "stream",
     "text": [
      "[nltk_data] Error loading punkt: <urlopen error [WinError 10061] No\n",
      "[nltk_data]     connection could be made because the target machine\n",
      "[nltk_data]     actively refused it>\n",
      "[nltk_data] Error loading stopwords: <urlopen error [WinError 10061]\n",
      "[nltk_data]     No connection could be made because the target machine\n",
      "[nltk_data]     actively refused it>\n",
      "[nltk_data] Error loading wordnet: <urlopen error [WinError 10061] No\n",
      "[nltk_data]     connection could be made because the target machine\n",
      "[nltk_data]     actively refused it>\n"
     ]
    },
    {
     "data": {
      "text/plain": [
       "False"
      ]
     },
     "execution_count": 2,
     "metadata": {},
     "output_type": "execute_result"
    }
   ],
   "source": [
    "# Download required NLTK data (you only need to do this once)\n",
    "nltk.download('punkt')\n",
    "nltk.download('stopwords')\n",
    "nltk.download('wordnet')"
   ]
  },
  {
   "cell_type": "code",
   "execution_count": 3,
   "id": "488fd6dc",
   "metadata": {},
   "outputs": [],
   "source": [
    "# Simple text preprocessing function\n",
    "def preprocess(text):\n",
    "    # Tokenize text (split into words)\n",
    "    words = word_tokenize(text.lower())  # Convert text to lowercase\n",
    "    \n",
    "    # Remove stop words\n",
    "    stop_words = set(stopwords.words('english'))\n",
    "    words = [word for word in words if word.isalnum() and word not in stop_words]\n",
    "    \n",
    "    # Stemming\n",
    "    ps = PorterStemmer()\n",
    "    stemmed_words = [ps.stem(word) for word in words]\n",
    "     # Lemmatization\n",
    "    lemmatizer = WordNetLemmatizer()\n",
    "    lemmatized_words = [lemmatizer.lemmatize(word) for word in words]\n",
    "    \n",
    "    return stemmed_words, lemmatized_words\n"
   ]
  },
  {
   "cell_type": "code",
   "execution_count": 4,
   "id": "100b0de8",
   "metadata": {},
   "outputs": [],
   "source": [
    "# Example text\n",
    "text = \"This is a simple example for text preprocessing, with stop word removal and stemming!\"\n"
   ]
  },
  {
   "cell_type": "code",
   "execution_count": 5,
   "id": "2ff414f5",
   "metadata": {},
   "outputs": [],
   "source": [
    "stemmed, lemmatized = preprocess(text)"
   ]
  },
  {
   "cell_type": "code",
   "execution_count": 6,
   "id": "5648523e",
   "metadata": {},
   "outputs": [
    {
     "name": "stdout",
     "output_type": "stream",
     "text": [
      "Stemmed Text:     ['simpl', 'exampl', 'text', 'preprocess', 'stop', 'word', 'remov', 'stem']\n",
      "Lemmatized Text:  ['simple', 'example', 'text', 'preprocessing', 'stop', 'word', 'removal', 'stemming']\n"
     ]
    }
   ],
   "source": [
    "# Display results\n",
    "print(\"Stemmed Text:    \", stemmed)\n",
    "print(\"Lemmatized Text: \", lemmatized)"
   ]
  },
  {
   "cell_type": "code",
   "execution_count": null,
   "id": "81fe2eee",
   "metadata": {},
   "outputs": [],
   "source": []
  }
 ],
 "metadata": {
  "kernelspec": {
   "display_name": "Python 3 (ipykernel)",
   "language": "python",
   "name": "python3"
  },
  "language_info": {
   "codemirror_mode": {
    "name": "ipython",
    "version": 3
   },
   "file_extension": ".py",
   "mimetype": "text/x-python",
   "name": "python",
   "nbconvert_exporter": "python",
   "pygments_lexer": "ipython3",
   "version": "3.8.5"
  }
 },
 "nbformat": 4,
 "nbformat_minor": 5
}
